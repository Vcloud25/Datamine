{
 "cells": [
  {
   "cell_type": "code",
   "execution_count": null,
   "id": "915f4500",
   "metadata": {},
   "outputs": [],
   "source": [
    "import sqlite3\n",
    "conn = sqlite3.connect('example.db')\n",
    "cur = conn.cursor()\n",
    "cur.execute('CREATE TABLE IF NOT EXISTS users (id INTEGER PRIMARY KEY, username TEXT, password TEXT)')\n",
    "cur.execute('DELETE FROM users')\n",
    "cur.execute(\"INSERT INTO users (username, password) VALUES ('alice', 'wonderland')\")\n",
    "conn.commit()\n",
    "conn.close()\n",
    "print('example.db created with one user (alice)')\n"
   ]
  },
  {
   "cell_type": "markdown",
   "id": "b5b82cf4",
   "metadata": {},
   "source": [
    "SQL Injection"
   ]
  },
  {
   "cell_type": "code",
   "execution_count": 2,
   "id": "ff4480b8",
   "metadata": {},
   "outputs": [
    {
     "name": "stdout",
     "output_type": "stream",
     "text": [
      "Login success\n"
     ]
    }
   ],
   "source": [
    "# vulnerable_sql.py (DO NOT run against production DB)\n",
    "import sqlite3\n",
    "\n",
    "conn = sqlite3.connect('example.db')\n",
    "cur = conn.cursor()\n",
    "\n",
    "# imagine these values came from a web form\n",
    "username = input(\"username: \")\n",
    "password = input(\"password: \")\n",
    "\n",
    "# RISKY: concatenating user input into SQL string\n",
    "query = \"SELECT id FROM users WHERE username = '\" + username + \"' AND password = '\" + password + \"';\"\n",
    "cur.execute(query)\n",
    "row = cur.fetchone()\n",
    "if row:\n",
    "    print(\"Login success\")\n",
    "else:\n",
    "    print(\"Login failed\")\n",
    "\n",
    "conn.close()\n"
   ]
  },
  {
   "cell_type": "code",
   "execution_count": 3,
   "id": "672c80e9",
   "metadata": {},
   "outputs": [
    {
     "name": "stdout",
     "output_type": "stream",
     "text": [
      "Login failed\n"
     ]
    }
   ],
   "source": [
    "# safe_sql.py\n",
    "import sqlite3\n",
    "\n",
    "conn = sqlite3.connect('example.db')\n",
    "cur = conn.cursor()\n",
    "\n",
    "username = input(\"username: \")\n",
    "password = input(\"password: \")\n",
    "\n",
    "# SAFE: use parameterized queries - user data never becomes SQL code\n",
    "cur.execute(\"SELECT id FROM users WHERE username = ? AND password = ?\", (username, password))\n",
    "row = cur.fetchone()\n",
    "if row:\n",
    "    print(\"Login success\")\n",
    "else:\n",
    "    print(\"Login failed\")\n",
    "\n",
    "conn.close()\n"
   ]
  },
  {
   "cell_type": "markdown",
   "id": "9ecab7e7",
   "metadata": {},
   "source": [
    "Cross Site Scripting"
   ]
  },
  {
   "cell_type": "code",
   "execution_count": 11,
   "id": "2bc179d6",
   "metadata": {},
   "outputs": [
    {
     "name": "stdout",
     "output_type": "stream",
     "text": [
      " * Serving Flask app '__main__'\n",
      " * Debug mode: on\n"
     ]
    },
    {
     "name": "stderr",
     "output_type": "stream",
     "text": [
      "WARNING: This is a development server. Do not use it in a production deployment. Use a production WSGI server instead.\n",
      " * Running on http://127.0.0.1:5000\n",
      "Press CTRL+C to quit\n",
      "127.0.0.1 - - [24/Sep/2025 10:08:56] \"POST /comment HTTP/1.1\" 200 -\n",
      "127.0.0.1 - - [24/Sep/2025 10:09:19] \"POST /comment HTTP/1.1\" 200 -\n",
      "127.0.0.1 - - [24/Sep/2025 10:09:28] \"POST /comment HTTP/1.1\" 200 -\n"
     ]
    }
   ],
   "source": [
    "# vulnerable_xss.py\n",
    "from flask import Flask, request, render_template_string\n",
    "\n",
    "app = Flask(__name__)\n",
    "\n",
    "# A very small template that directly inserts the user comment into the page\n",
    "TEMPLATE = \"\"\"\n",
    "<!doctype html>\n",
    "<html>\n",
    "  <head><title>Vulnerable XSS demo</title></head>\n",
    "  <body>\n",
    "    <h1>Leave a comment</h1>\n",
    "    <form method=\"post\" action=\"/comment\">\n",
    "      <input name=\"comment\" placeholder=\"Type comment\">\n",
    "      <button type=\"submit\">Submit</button>\n",
    "    </form>\n",
    "\n",
    "    <h2>Last comment</h2>\n",
    "    <!-- UNSAFE: inserting user input directly -->\n",
    "    <div id=\"last-comment\">{{ comment | safe }}</div>\n",
    "  </body>\n",
    "</html>\n",
    "\"\"\"\n",
    "\n",
    "@app.route(\"/comment\", methods=[\"GET\", \"POST\"])\n",
    "def comment():\n",
    "    comment = \"\"\n",
    "    if request.method == \"POST\":\n",
    "        comment = request.form.get(\"comment\", \"\")\n",
    "    # render_template_string will insert the value of `comment` using Jinja2\n",
    "    # (in this demo we are simulating a common mistake: showing user input\n",
    "    # directly in a template without thinking about escaping)\n",
    "    return render_template_string(TEMPLATE, comment=comment)\n",
    "\n",
    "if __name__ == \"__main__\":\n",
    "    app.run(host=\"127.0.0.1\", port=5000, debug=True, use_reloader=False)\n"
   ]
  },
  {
   "cell_type": "code",
   "execution_count": null,
   "id": "986ed96c",
   "metadata": {},
   "outputs": [],
   "source": [
    "# vulnerable_xss.py\n",
    "from flask import Flask, request, render_template_string\n",
    "\n",
    "app = Flask(__name__)\n",
    "\n",
    "# A very small template that directly inserts the user comment into the page\n",
    "TEMPLATE = \"\"\"\n",
    "<!doctype html>\n",
    "<html>\n",
    "  <head><title>Vulnerable XSS demo</title></head>\n",
    "  <body>\n",
    "    <h1>Leave a comment</h1>\n",
    "    <form method=\"post\" action=\"/comment\">\n",
    "      <input name=\"comment\" placeholder=\"Type comment\">\n",
    "      <button type=\"submit\">Submit</button>\n",
    "    </form>\n",
    "\n",
    "    <h2>Last comment</h2>\n",
    "    <!-- UNSAFE: inserting user input directly -->\n",
    "    <div id=\"last-comment\">{{ comment }}</div>\n",
    "  </body>\n",
    "</html>\n",
    "\"\"\"\n",
    "\n",
    "@app.route(\"/comment\", methods=[\"GET\", \"POST\"])\n",
    "def comment():\n",
    "    comment = \"\"\n",
    "    if request.method == \"POST\":\n",
    "        comment = request.form.get(\"comment\", \"\")\n",
    "    # render_template_string will insert the value of `comment` using Jinja2\n",
    "    # (in this demo we are simulating a common mistake: showing user input\n",
    "    # directly in a template without thinking about escaping)\n",
    "    return render_template_string(TEMPLATE, comment=comment)\n",
    "\n",
    "if __name__ == \"__main__\":\n",
    "    app.run(host=\"127.0.0.1\", port=5000, debug=True, use_reloader=False)\n"
   ]
  },
  {
   "cell_type": "markdown",
   "id": "88eb283b",
   "metadata": {},
   "source": [
    "Shell Injection"
   ]
  },
  {
   "cell_type": "code",
   "execution_count": null,
   "id": "15aa5514",
   "metadata": {},
   "outputs": [
    {
     "data": {
      "text/plain": [
       "1"
      ]
     },
     "execution_count": 15,
     "metadata": {},
     "output_type": "execute_result"
    }
   ],
   "source": [
    "import os\n",
    "\n",
    "host = input(\"Enter host to ping: \")\n",
    "\n",
    "# RISKY: passing user input into shell command (shell interprets metacharacters)\n",
    "os.system(\"ping -n 4 \" + host)"
   ]
  },
  {
   "cell_type": "code",
   "execution_count": 13,
   "id": "67000cee",
   "metadata": {},
   "outputs": [
    {
     "ename": "ValueError",
     "evalue": "Invalid host",
     "output_type": "error",
     "traceback": [
      "\u001b[31m---------------------------------------------------------------------------\u001b[39m",
      "\u001b[31mValueError\u001b[39m                                Traceback (most recent call last)",
      "\u001b[36mCell\u001b[39m\u001b[36m \u001b[39m\u001b[32mIn[13]\u001b[39m\u001b[32m, line 9\u001b[39m\n\u001b[32m      7\u001b[39m \u001b[38;5;66;03m# Simple validation: allow only letters, numbers, dots and hyphens (example whitelist)\u001b[39;00m\n\u001b[32m      8\u001b[39m \u001b[38;5;28;01mif\u001b[39;00m \u001b[38;5;129;01mnot\u001b[39;00m re.fullmatch(\u001b[33mr\u001b[39m\u001b[33m\"\u001b[39m\u001b[33m[A-Za-z0-9\u001b[39m\u001b[33m\\\u001b[39m\u001b[33m.-]+\u001b[39m\u001b[33m\"\u001b[39m, host):\n\u001b[32m----> \u001b[39m\u001b[32m9\u001b[39m     \u001b[38;5;28;01mraise\u001b[39;00m \u001b[38;5;167;01mValueError\u001b[39;00m(\u001b[33m\"\u001b[39m\u001b[33mInvalid host\u001b[39m\u001b[33m\"\u001b[39m)\n\u001b[32m     11\u001b[39m \u001b[38;5;66;03m# SAFE: pass argument list and avoid shell=True\u001b[39;00m\n\u001b[32m     12\u001b[39m subprocess.run([\u001b[33m\"\u001b[39m\u001b[33mping\u001b[39m\u001b[33m\"\u001b[39m, \u001b[33m\"\u001b[39m\u001b[33m-c\u001b[39m\u001b[33m\"\u001b[39m, \u001b[33m\"\u001b[39m\u001b[33m4\u001b[39m\u001b[33m\"\u001b[39m, host], check=\u001b[38;5;28;01mTrue\u001b[39;00m)\n",
      "\u001b[31mValueError\u001b[39m: Invalid host"
     ]
    }
   ],
   "source": [
    "# safe_cmd.py\n",
    "import subprocess\n",
    "import re\n",
    "\n",
    "host = input(\"Enter host to ping: \")\n",
    "\n",
    "# Simple validation: allow only letters, numbers, dots and hyphens (example whitelist)\n",
    "if not re.fullmatch(r\"[A-Za-z0-9\\.-]+\", host):\n",
    "    raise ValueError(\"Invalid host\")\n",
    "\n",
    "# SAFE: pass argument list and avoid shell=True\n",
    "subprocess.run([\"ping\", \"-c\", \"4\", host], check=True)\n"
   ]
  }
 ],
 "metadata": {
  "kernelspec": {
   "display_name": "Python 3",
   "language": "python",
   "name": "python3"
  },
  "language_info": {
   "codemirror_mode": {
    "name": "ipython",
    "version": 3
   },
   "file_extension": ".py",
   "mimetype": "text/x-python",
   "name": "python",
   "nbconvert_exporter": "python",
   "pygments_lexer": "ipython3",
   "version": "3.11.9"
  }
 },
 "nbformat": 4,
 "nbformat_minor": 5
}
